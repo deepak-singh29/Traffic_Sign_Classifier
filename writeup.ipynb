{
 "cells": [
  {
   "cell_type": "markdown",
   "metadata": {},
   "source": [
    "# **Traffic Sign Recognition** \n",
    "\n",
    "**Build a Traffic Sign Recognition Project**\n",
    "\n",
    "The goals / steps of this project are the following:\n",
    "* Load the data set (see below for links to the project data set)\n",
    "* Explore, summarize and visualize the data set\n",
    "* Design, train and test a model architecture\n",
    "* Use the model to make predictions on new images\n",
    "* Analyze the softmax probabilities of the new images\n",
    "* Summarize the results with a written report\n"
   ]
  },
  {
   "cell_type": "markdown",
   "metadata": {},
   "source": [
    "## Rubric Points\n",
    "### Here I will consider the [rubric points](https://review.udacity.com/#!/rubrics/481/view) individually and describe how I addressed each point in my implementation.  \n"
   ]
  },
  {
   "cell_type": "markdown",
   "metadata": {},
   "source": [
    "### Data Set Summary & Exploration\n",
    "\n",
    "I used the numpy library to calculate summary statistics of the traffic\n",
    "signs data set:\n",
    "\n",
    "* The size of training set is 34799\n",
    "* The size of the validation set is 4410\n",
    "* The size of test set is 12630\n",
    "* The shape of a traffic sign image is (32, 32, 3)\n",
    "* The number of unique classes/labels in the data set is 43\n",
    "\n",
    "Here is an exploratory visualization of the data set. It is a bar chart showing how the training data is distributed.\n",
    "\n",
    "![image1](./outputImgs/visualization.jpg)"
   ]
  },
  {
   "cell_type": "markdown",
   "metadata": {},
   "source": [
    "### Design and Test a Model Architecture\n",
    "\n",
    "#### 1. Preprocessing\n",
    "As a first step, I decided to convert the images to grayscale because we have used LeNet archtecture for classification and the same work efficiently for single channel images.\n",
    "\n",
    "Here is an example of a traffic sign image before and after grayscaling.\n",
    "\n",
    "![transformed image](./outputImgs/grayscale.jpg)\n",
    "\n",
    "As a last step, I normalized the image data because it removes unwanted high/low intensity pixel and output the pixel intensity in predefined range.\n",
    "\n"
   ]
  },
  {
   "cell_type": "markdown",
   "metadata": {},
   "source": [
    "#### 2. NN Model\n",
    "\n",
    "![transformed image](./outputImgs/lenet_architecture.jpg)\n",
    "My final model looks like image shown abobe and consist of the following layers:\n",
    "\n",
    "| Layer         \t\t|     Description\t        \t\t\t\t\t| \n",
    "|:---------------------:|:---------------------------------------------:| \n",
    "| Input         \t\t| 32x32x1 Grayscale image   \t\t\t\t\t| \n",
    "| Convolution 5x5     \t| 1x1 stride, same padding, outputs 28x28x6 \t|\n",
    "| RELU\t\t\t\t\t| Activation function\t\t\t\t\t\t\t|\n",
    "| Max pooling\t      \t| 2x2 stride,  outputs 14x14x6 \t\t\t\t    |\n",
    "| Convolution 5x5\t    | 1x1 stride, same padding, outputs 10x10x16    |\n",
    "| RELU\t\t\t\t\t| Activation function\t\t\t\t\t\t\t|\n",
    "| Max pooling\t        | 2x2 stride,  outputs 5x5x16 \t\t\t\t    |\n",
    "| Fully connected\t\t| Input 400x1 output 43x1        \t\t\t\t|\n",
    "|(Hidden layers)        |                                               |\n",
    "| Softmax\t\t\t\t| Input 43x1 output 43x1        \t\t\t\t|\n",
    "|\t\t\t\t\t\t|\t\t\t\t\t\t\t\t\t\t\t\t|\n",
    "|\t\t\t\t\t\t|\t\t\t\t\t\t\t\t\t\t\t\t|\n",
    " \n",
    "\n"
   ]
  },
  {
   "cell_type": "markdown",
   "metadata": {},
   "source": [
    "#### 3. Training the model\n",
    "\n",
    "To train the model, I used an Adam Optimizer as it coverges to optimal value of weight faster which inturn speed up the batch gardient descent operation.\n",
    "\n",
    "Have trained model on different hyper parameters but on below value model gives us the desired validation and test accuracy:\n",
    "\n",
    "    Batch Size : 128\n",
    "    Epoch : 30\n",
    "    Learning rate : 0.0009\n"
   ]
  },
  {
   "cell_type": "markdown",
   "metadata": {},
   "source": [
    "#### 4. Performance Tuning\n",
    "\n",
    "My final model results were:\n",
    "* training set accuracy of 0.996\n",
    "* validation set accuracy of 0.959 \n",
    "* test set accuracy of 0.934\n",
    "\n",
    "* We have choosen LeNET architecture as its best sutable for classification of images.\n",
    "* Initial arcitecture was baised for some images.\n",
    "* so we have included droupout to remove overfitting from our model.\n",
    "* By tuning hyper-parameters like Epochs,learning rate and batch size validation and test accuracy improved to 0.959 and 0.934 respectively.\n",
    " \n"
   ]
  },
  {
   "cell_type": "markdown",
   "metadata": {},
   "source": [
    "#### 1. Test dataset\n",
    "\n",
    "Here are five German traffic signs that I found on the web:\n",
    "\n",
    "![image1](./randomImgs/1.jpg) ![image2](./randomImgs/2.jpg) ![image3](./randomImgs/3.jpg) \n",
    "![image4](./randomImgs/4.jpg) ![image5](./randomImgs/5.jpg)\n",
    "\n",
    "The first image might be difficult to classify because the traffic sign is not present in centre as out training set contains all the signs present in centre."
   ]
  },
  {
   "cell_type": "markdown",
   "metadata": {},
   "source": [
    "#### 2. Predictions\n",
    "\n",
    "Here are the results of the prediction:\n",
    "\n",
    "| Image\t\t\t                        |     Prediction\t        \t\t\t\t\t| \n",
    "|:-------------------------------------:|:---------------------------------------------:| \n",
    "| Speed limit (60km/h)                  | No entry   \t\t\t\t\t\t\t\t\t| \n",
    "| Road work    \t\t\t                | Road work\t\t\t\t\t\t\t\t\t\t|\n",
    "| Stop\t\t\t\t\t                | Stop\t\t\t\t\t\t\t\t\t\t\t|\n",
    "| No entry        \t\t                | No entry  \t\t\t\t\t \t\t\t\t|\n",
    "| Right-of-way at the next intersection\t| Right-of-way at the next intersection\t\t\t|\n",
    "\n",
    "\n",
    "The model was able to correctly guess 3 of the 5 traffic signs, which gives an accuracy of 60%. This compares favorably to the accuracy on the test set of images."
   ]
  },
  {
   "cell_type": "markdown",
   "metadata": {},
   "source": [
    "#### 3. Image wise softmax probablity\n",
    "\n",
    "The code for making predictions on my final model is located in the 29th cell of the Ipython notebook.\n",
    "\n",
    "\n",
    "For the first image, the model is relatively sure that this is a No entry sign (probability of 1.0), and the image does not contain a stop sign. The top five soft max probabilities were\n",
    "\n",
    "| Probability         \t|     Prediction\t        \t\t\t\t\t| \n",
    "|:---------------------:|:---------------------------------------------:| \n",
    "| 1.0         \t\t\t| Stop sign   \t\t\t\t\t\t\t\t\t| \n",
    "| .00     \t\t\t\t| Speed limit (20km/h) \t\t\t\t\t\t\t|\n",
    "| .00\t\t\t\t\t| Speed limit (30km/h)\t\t\t\t\t\t\t|\n",
    "| .00\t      \t\t\t| Speed limit (50km/h)\t\t\t\t\t \t\t|\n",
    "| .00\t\t\t\t    | Speed limit (60km/h)      \t\t\t\t\t|\n",
    "\n",
    "\n",
    "For the second image, the model is relatively sure that this is a Road work sign (probability of 1.0), and the image does not contain a Road work sign. The top five soft max probabilities were\n",
    "\n",
    "| Probability         \t|     Prediction\t        \t\t\t\t\t| \n",
    "|:---------------------:|:---------------------------------------------:| \n",
    "| 1.0         \t\t\t| Double curve \t\t\t\t\t\t\t\t\t| \n",
    "| .00     \t\t\t\t| Speed limit (20km/h) \t\t\t\t\t\t\t|\n",
    "| .00\t\t\t\t\t| Speed limit (30km/h)\t\t\t\t\t\t\t|\n",
    "| .00\t      \t\t\t| Speed limit (50km/h)\t\t\t\t\t \t\t|\n",
    "| .00\t\t\t\t    | Speed limit (60km/h)      \t\t\t\t\t|\n",
    "\n",
    "\n",
    "For the third image, the model is relatively sure that this is a Stop sign (probability of 1.0), and the image does contain a Road work sign. The top five soft max probabilities were\n",
    "\n",
    "| Probability         \t|     Prediction\t        \t\t\t\t\t| \n",
    "|:---------------------:|:---------------------------------------------:| \n",
    "| 1.0         \t\t\t| Stop      \t\t\t\t\t\t\t\t\t| \n",
    "| .00     \t\t\t\t| Speed limit (20km/h) \t\t\t\t\t\t\t|\n",
    "| .00\t\t\t\t\t| Speed limit (30km/h)\t\t\t\t\t\t\t|\n",
    "| .00\t      \t\t\t| Speed limit (50km/h)\t\t\t\t\t \t\t|\n",
    "| .00\t\t\t\t    | Speed limit (60km/h)      \t\t\t\t\t|\n",
    "\n",
    "For the fourth image, the model is relatively sure that this is a No entry sign (probability of 1.0), and the image does contain a No entry sign. The top five soft max probabilities were\n",
    "\n",
    "| Probability         \t|     Prediction\t        \t\t\t\t\t| \n",
    "|:---------------------:|:---------------------------------------------:| \n",
    "| 1.0         \t\t\t| No entry      \t\t\t\t\t\t\t\t| \n",
    "| .00     \t\t\t\t| Speed limit (20km/h) \t\t\t\t\t\t\t|\n",
    "| .00\t\t\t\t\t| Speed limit (30km/h)\t\t\t\t\t\t\t|\n",
    "| .00\t      \t\t\t| Speed limit (50km/h)\t\t\t\t\t \t\t|\n",
    "| .00\t\t\t\t    | Speed limit (60km/h)      \t\t\t\t\t|\n",
    "\n",
    "\n",
    "For the last image, the model is relatively sure that this is a Right-of-way at the next intersection sign (probability of 1.0), and the image does contain a Right-of-way at the next intersection sign. The top five soft max probabilities were\n",
    "\n",
    "| Probability         \t|     Prediction\t        \t\t\t\t\t| \n",
    "|:---------------------:|:---------------------------------------------:| \n",
    "| 1.0         \t\t\t| Right-of-way at the next intersection      \t| \n",
    "| .00     \t\t\t\t| Speed limit (20km/h) \t\t\t\t\t\t\t|\n",
    "| .00\t\t\t\t\t| Speed limit (30km/h)\t\t\t\t\t\t\t|\n",
    "| .00\t      \t\t\t| Speed limit (50km/h)\t\t\t\t\t \t\t|\n",
    "| .00\t\t\t\t    | Speed limit (60km/h)      \t\t\t\t\t|"
   ]
  },
  {
   "cell_type": "code",
   "execution_count": null,
   "metadata": {},
   "outputs": [],
   "source": []
  }
 ],
 "metadata": {
  "kernelspec": {
   "display_name": "Python [conda env:carnd-term1]",
   "language": "python",
   "name": "conda-env-carnd-term1-py"
  },
  "language_info": {
   "codemirror_mode": {
    "name": "ipython",
    "version": 3
   },
   "file_extension": ".py",
   "mimetype": "text/x-python",
   "name": "python",
   "nbconvert_exporter": "python",
   "pygments_lexer": "ipython3",
   "version": "3.5.2"
  },
  "widgets": {
   "state": {},
   "version": "1.1.2"
  }
 },
 "nbformat": 4,
 "nbformat_minor": 2
}
